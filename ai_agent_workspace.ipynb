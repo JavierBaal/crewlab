{
  "cells": [
    {
      "cell_type": "markdown",
      "metadata": {},
      "source": [
        "# AI Agent Team Workspace - Google Colab Setup\n",
        "\n",
        "This notebook provides instructions for setting up and running the AI Agent Team Workspace application in Google Colab.\n",
        "\n",
        "## Overview\n",
        "\n",
        "The AI Agent Team Workspace is a collaborative environment featuring specialized AI agents representing different development roles, providing guidance and assistance through an interactive interface with terminal capabilities.\n",
        "\n",
        "### Key Features:\n",
        "\n",
        "- Agent cards with chat interfaces\n",
        "- Interactive terminal for command execution\n",
        "- Split-panel layout with technical workspace\n",
        "- Multi-agent collaboration using CrewAI framework\n",
        "- Specialized AI agents with distinct roles (Engineer, Architect, Data Analyst, etc.)\n",
        "- Project initialization and problem-solving workflows"
      ]
    },
    {
      "cell_type": "markdown",
      "metadata": {},
      "source": [
        "## Step 1: Set up Node.js in Google Colab\n",
        "\n",
        "First, we need to install Node.js and npm in the Colab environment."
      ]
    },
    {
      "cell_type": "code",
      "execution_count": null,
      "metadata": {},
      "outputs": [],
      "source": [
        "# Install Node.js and npm\n",
        "!curl -sL https://deb.nodesource.com/setup_18.x | bash -\n",
        "!apt-get install -y nodejs\n",
        "\n",
        "# Verify installation\n",
        "!node --version\n",
        "!npm --version"
      ]
    },
    {
      "cell_type": "markdown",
      "metadata": {},
      "source": [
        "## Step 2: Clone the Project Repository\n",
        "\n",
        "Next, let's clone the project repository from GitHub."
      ]
    },
    {
      "cell_type": "code",
      "execution_count": null,
      "metadata": {},
      "outputs": [],
      "source": [
        "# Clone the repository\n",
        "!git clone https://github.com/your-username/ai-agent-workspace.git\n",
        "\n",
        "# Navigate to the project directory\n",
        "%cd ai-agent-workspace"
      ]
    },
    {
      "cell_type": "markdown",
      "metadata": {},
      "source": [
        "## Step 3: Install Project Dependencies\n",
        "\n",
        "Install all the required dependencies for the project."
      ]
    },
    {
      "cell_type": "code",
      "execution_count": null,
      "metadata": {},
      "outputs": [],
      "source": [
        "# Install dependencies\n",
        "!npm install\n",
        "\n",
        "# Specifically reinstall @radix-ui/react-tabs to fix any issues\n",
        "!npm uninstall @radix-ui/react-tabs && npm install @radix-ui/react-tabs"
      ]
    },
    {
      "cell_type": "markdown",
      "metadata": {},
      "source": [
        "## Step 4: Set Up Port Forwarding\n",
        "\n",
        "To access the Next.js application from outside Colab, we need to set up port forwarding using ngrok."
      ]
    },
    {
      "cell_type": "code",
      "execution_count": null,
      "metadata": {},
      "outputs": [],
      "source": [
        "# Install ngrok\n",
        "!npm install -g ngrok\n",
        "\n",
        "# Get ngrok auth token\n",
        "# Visit https://dashboard.ngrok.com/get-started/your-authtoken to get your token\n",
        "# Replace YOUR_AUTH_TOKEN with your actual token\n",
        "!ngrok authtoken YOUR_AUTH_TOKEN"
      ]
    },
    {
      "cell_type": "markdown",
      "metadata": {},
      "source": [
        "## Step 5: Run the Development Server\n",
        "\n",
        "Now, let's start the Next.js development server."
      ]
    },
    {
      "cell_type": "code",
      "execution_count": null,
      "metadata": {},
      "outputs": [],
      "source": [
        "# Start the Next.js development server in the background\n",
        "!npm run dev & sleep 5"
      ]
    },
    {
      "cell_type": "markdown",
      "metadata": {},
      "source": [
        "## Step 6: Expose the Server with ngrok\n",
        "\n",
        "Finally, let's expose the local development server to the internet using ngrok."
      ]
    },
    {
      "cell_type": "code",
      "execution_count": null,
      "metadata": {},
      "outputs": [],
      "source": [
        "# Expose the server using ngrok\n",
        "!ngrok http 3000"
      ]
    },
    {
      "cell_type": "markdown",
      "metadata": {},
      "source": [
        "## Accessing the Application\n",
        "\n",
        "After running the ngrok command above, you will see a URL in the output (something like `https://xxxx-xxxx-xxxx.ngrok.io`).\n",
        "\n",
        "Copy this URL and paste it into your browser to access the AI Agent Team Workspace application.\n",
        "\n",
        "## Troubleshooting\n",
        "\n",
        "If you encounter any issues with the Tabs components, try the following fixes:\n",
        "\n",
        "1. Reinstall the @radix-ui/react-tabs package:\n",
        "```\n",
        "npm uninstall @radix-ui/react-tabs && npm install @radix-ui/react-tabs\n",
        "```\n",
        "\n",
        "2. Make sure all TabsContent components are properly nested within Tabs components\n",
        "\n",
        "3. Check for any context provider issues in the component hierarchy"
      ]
    },
    {
      "cell_type": "markdown",
      "metadata": {},
      "source": [
        "## Additional Resources\n",
        "\n",
        "- [Next.js Documentation](https://nextjs.org/docs)\n",
        "- [Radix UI Documentation](https://www.radix-ui.com/docs/primitives/overview/introduction)\n",
        "- [CrewAI Documentation](https://docs.crewai.com/)\n",
        "- [Tailwind CSS Documentation](https://tailwindcss.com/docs)"
      ]
    }
  ],
  "metadata": {
    "kernelspec": {
      "display_name": "Python 3",
      "language": "python",
      "name": "python3"
    },
    "language_info": {
      "codemirror_mode": {
        "name": "ipython",
        "version": 3
      },
      "file_extension": ".py",
      "mimetype": "text/x-python",
      "name": "python",
      "nbconvert_exporter": "python",
      "pygments_lexer": "ipython3",
      "version": "3.8.10"
    }
  },
  "nbformat": 4,
  "nbformat_minor": 4
}